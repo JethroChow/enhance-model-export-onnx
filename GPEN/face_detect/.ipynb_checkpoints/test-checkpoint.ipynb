{
 "cells": [
  {
   "cell_type": "code",
   "execution_count": null,
   "id": "0624bb11-232a-4a62-8142-ba56c017eca8",
   "metadata": {},
   "outputs": [],
   "source": [
    "import cv2\n",
    "from retinaface_detection import RetinaFaceDetection\n",
    "import torch\n",
    "\n",
    "model = RetinaFaceDetection()\n",
    "onnx_file_path = \"resnet_50_2.onnx\"\n",
    "x = torch.randn(2, 3, 512, 512, requires_grad=True).to('cuda:0')\n",
    "torch.onnx.export(model.net,           \n",
    "                  x,                   \n",
    "                  onnx_file_path,     \n",
    "                  export_params=True,  \n",
    "                  verbose = True,\n",
    "                  opset_version=11,   \n",
    "                  do_constant_folding=True,  \n",
    "                  input_names=['input'],   \n",
    "                  output_names=['conf', 'loc','landmarks'], \n",
    "                  dynamic_axes={'input': {0: 'batch_size'},    \n",
    "                                'conf': {0: 'batch_size'}, \n",
    "                                'loc': {0: 'batch_size'},\n",
    "                                'landmarks': {0: 'batch_size'}}) \n"
   ]
  }
 ],
 "metadata": {
  "kernelspec": {
   "display_name": "rope",
   "language": "python",
   "name": "rope"
  },
  "language_info": {
   "codemirror_mode": {
    "name": "ipython",
    "version": 3
   },
   "file_extension": ".py",
   "mimetype": "text/x-python",
   "name": "python",
   "nbconvert_exporter": "python",
   "pygments_lexer": "ipython3",
   "version": "3.9.18"
  }
 },
 "nbformat": 4,
 "nbformat_minor": 5
}
